{
  "nbformat": 4,
  "nbformat_minor": 0,
  "metadata": {
    "colab": {
      "provenance": [],
      "authorship_tag": "ABX9TyM5W1zidcF3sYlz9Ki/KMM8",
      "include_colab_link": true
    },
    "kernelspec": {
      "name": "python3",
      "display_name": "Python 3"
    },
    "language_info": {
      "name": "python"
    }
  },
  "cells": [
    {
      "cell_type": "markdown",
      "metadata": {
        "id": "view-in-github",
        "colab_type": "text"
      },
      "source": [
        "<a href=\"https://colab.research.google.com/github/nurrohimdewantara08-crypto/Praktikum-algo/blob/main/Laporan3.ipynb\" target=\"_parent\"><img src=\"https://colab.research.google.com/assets/colab-badge.svg\" alt=\"Open In Colab\"/></a>"
      ]
    },
    {
      "cell_type": "code",
      "execution_count": null,
      "metadata": {
        "colab": {
          "base_uri": "https://localhost:8080/"
        },
        "id": "eMEKoT-AJsUK",
        "outputId": "02148b22-0569-4627-b017-85fcdc83711d"
      },
      "outputs": [
        {
          "output_type": "stream",
          "name": "stdout",
          "text": [
            "Masukkan sisi pertama: 3\n",
            "Masukkan sisi kedua: 3\n",
            "Masukkan sisi ketiga: 6\n",
            "Bukan segitiga\n"
          ]
        }
      ],
      "source": [
        "# Nur Rohim Dewantara\n",
        "# 065002500012\n",
        "\n",
        "a = float (input(\"Masukkan sisi pertama: \"))\n",
        "\n",
        "b= float(input(\"Masukkan sisi kedua: \"))\n",
        "\n",
        "c = float(input(\"Masukkan sisi ketiga: \"))\n",
        "\n",
        "\n",
        "if a + b <= c or a + c <= b or b + c <= a:\n",
        "      print(\"Bukan segitiga\")\n",
        "\n",
        "elif a == b and b == c:\n",
        "     print(\"Segitiga sama sisi\")\n",
        "\n",
        "elif a == b or b == c or a == c:\n",
        "     print(\"Segitiga sama kaki\")\n",
        "\n",
        "else:\n",
        "    print(\"Segitiga sembarang\")"
      ]
    },
    {
      "cell_type": "code",
      "source": [
        "# Nur Rohim Dewantara\n",
        "# 065002500012\n",
        "# latihan kedua modul 3\n",
        "\n",
        "\n",
        "nama = input(\"Masukkan nama: \")\n",
        "\n",
        "nim = input(\"Masukkan NIM: \")\n",
        "\n",
        "total_belanja = int(input(\"Masukkan total belanja: Rp \"))\n",
        "\n",
        "kupon = input(\"Masukkan kode kupon (jika ada): \")\n",
        "\n",
        "if kupon == \"IKL6309\":\n",
        "    print(\"Selamat, anda mendapatkan diskon 100%.\")\n",
        "    diskon = 1.0\n",
        "    potongan = total_belanja\n",
        "    bayar = 0\n",
        "\n",
        "else:\n",
        "    if 40000 <= total_belanja <= 89999:\n",
        "        diskon = 0.2\n",
        "    elif 90000 <= total_belanja <= 189999:\n",
        "        diskon = 0.4\n",
        "    elif 190000 <= total_belanja <= 389999:\n",
        "        diskon = 0.6\n",
        "    elif total_belanja >= 390000:\n",
        "        diskon = 0.8\n",
        "    else:\n",
        "        diskon = 0.0\n",
        "\n",
        "    potongan = total_belanja * diskon\n",
        "    bayar = total_belanja - potongan\n",
        "\n",
        "print(f\"Total Belanja: Rp {total_belanja}\")\n",
        "print(f\"Diskon : {int(diskon*100)}%\")\n",
        "print(f\"Potongan : Rp {int(potongan)}\")\n",
        "print(f\"Total Bayar : Rp {int(bayar)}\")\n",
        "\n",
        "print(\"terima kasih sudah berbelanja\")"
      ],
      "metadata": {
        "colab": {
          "base_uri": "https://localhost:8080/"
        },
        "id": "_AR9uTOmcYjD",
        "outputId": "b30f6e46-6405-469b-9144-7de70405adf6"
      },
      "execution_count": null,
      "outputs": [
        {
          "output_type": "stream",
          "name": "stdout",
          "text": [
            "Masukkan nama: Nur Rohim Dewantara\n",
            "Masukkan NIM: 065002500012\n",
            "Masukkan total belanja: Rp 10000\n",
            "Masukkan kode kupon (jika ada): IKL6309\n",
            "Selamat, anda mendapatkan diskon 100%.\n",
            "Total Belanja: Rp 10000\n",
            "Diskon : 100%\n",
            "Potongan : Rp 10000\n",
            "Total Bayar : Rp 0\n",
            "terima kasih sudah berbelanja\n"
          ]
        }
      ]
    }
  ]
}