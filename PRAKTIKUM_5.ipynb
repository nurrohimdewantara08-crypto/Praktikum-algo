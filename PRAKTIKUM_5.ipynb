{
  "cells": [
    {
      "cell_type": "markdown",
      "metadata": {
        "id": "view-in-github",
        "colab_type": "text"
      },
      "source": [
        "<a href=\"https://colab.research.google.com/github/nurrohimdewantara08-crypto/Praktikum-algo/blob/main/PRAKTIKUM_5.ipynb\" target=\"_parent\"><img src=\"https://colab.research.google.com/assets/colab-badge.svg\" alt=\"Open In Colab\"/></a>"
      ]
    },
    {
      "cell_type": "code",
      "source": [
        "# NUR ROHIM DEWANTARA\n",
        "# 065002500012\n",
        "\n",
        "\n",
        "total = 0\n",
        "jumlah = 0\n",
        "\n",
        "while True:\n",
        "    huruf = input(\"masukkan huruf: \")\n",
        "\n",
        "    if huruf == \"\":\n",
        "        break\n",
        "\n",
        "    huruf = huruf.upper()\n",
        "\n",
        "    if huruf == \"A\":\n",
        "        nilai = 4.00\n",
        "    elif huruf == \"A-\":\n",
        "        nilai = 3.75\n",
        "    elif huruf == \"B+\":\n",
        "        nilai = 3.50\n",
        "    elif huruf == \"B\":\n",
        "        nilai = 3.00\n",
        "    elif huruf == \"B-\":\n",
        "        nilai = 2.75\n",
        "    elif huruf == \"C+\":\n",
        "        nilai = 2.50\n",
        "    elif huruf == \"C\":\n",
        "        nilai = 2.00\n",
        "    elif huruf == \"C-\":\n",
        "        nilai = 1.75\n",
        "    elif huruf == \"D\":\n",
        "        nilai = 1.50\n",
        "    elif huruf == \"E\":\n",
        "        nilai = 1.25\n",
        "    else:\n",
        "        print(\"Nilai huruf tidak valid!\")\n",
        "        continue\n",
        "\n",
        "    print(\"nilai =\", nilai)\n",
        "\n",
        "    total += nilai\n",
        "    jumlah += 1\n",
        "\n",
        "if jumlah > 0:\n",
        "    rata = total / jumlah\n",
        "    print(f\"rata - rata nya adalah: {rata}\")\n",
        "else:\n",
        "    print(\"ulangi\")\n"
      ],
      "metadata": {
        "id": "4VNE4l-X2X7n",
        "outputId": "31b46b75-3c0c-4b34-939f-bf3708911af3",
        "colab": {
          "base_uri": "https://localhost:8080/"
        }
      },
      "execution_count": null,
      "outputs": [
        {
          "output_type": "stream",
          "name": "stdout",
          "text": [
            "masukkan huruf: a\n",
            "nilai = 4.0\n",
            "masukkan huruf: b\n",
            "nilai = 3.0\n",
            "masukkan huruf: f\n",
            "Nilai huruf tidak valid!\n",
            "masukkan huruf: \n",
            "rata - rata nya adalah: 3.5\n"
          ]
        }
      ]
    },
    {
      "cell_type": "code",
      "source": [
        "# NUR ROHIM DEWANTARA\n",
        "# 065002500012\n",
        "\n",
        "total_harga = 0.0\n",
        "print(\"Program Hitung Tiket Kebun Binatang\")\n",
        "print(\"Masukkan umur (kosongkan untuk bayar):\")\n",
        "\n",
        "# Memulai perulangan (loop)\n",
        "while True:\n",
        "    umur_input = input(\"masukkan umur: \")\n",
        "\n",
        "    # Kondisi berhenti\n",
        "    if umur_input == \"\":\n",
        "        break\n",
        "\n",
        "    umur = int(umur_input)\n",
        "    harga_tiket = 0.0 # Default harga\n",
        "\n",
        "    # Logika menentukan harga tiket\n",
        "    if umur <= 2:\n",
        "        print(\"Gratis\")\n",
        "    elif umur <= 12:\n",
        "        harga_tiket = 14.00\n",
        "    elif umur >= 65:\n",
        "        harga_tiket = 18.00\n",
        "    else:\n",
        "        harga_tiket = 23.00\n",
        "\n",
        "    # Cetak harga hanya jika tidak gratis\n",
        "    if harga_tiket > 0:\n",
        "        print(f\"Harga $ {harga_tiket:.2f}\")\n",
        "\n",
        "    # Tambahkan ke total dan cetak running total\n",
        "    total_harga += harga_tiket\n",
        "    print(f\"Running total: {total_harga:.2f}\")\n",
        "\n",
        "# Proses Pembayaran\n",
        "print(f\"\\nTotal Tagihan Anda: ${total_harga:.2f}\")\n",
        "uang_bayar = float(input(\"masukkan jumlah uang: \"))\n",
        "kembalian = uang_bayar - total_harga\n",
        "\n",
        "# Cetak kembalian atau pesan uang kurang\n",
        "if kembalian >= 0:\n",
        "    print(f\"Running kembalian: {kembalian:.2f}\")\n",
        "else:\n",
        "    # 'kembalian' di sini nilainya negatif, jadi kita pakai -kembalian\n",
        "    print(f\"Maaf, uang Anda kurang ${-kembalian:.2f}.\")"
      ],
      "metadata": {
        "colab": {
          "base_uri": "https://localhost:8080/"
        },
        "id": "cV30l8lhGsax",
        "outputId": "8956c6eb-2008-4824-bef0-df9c73e0e07c"
      },
      "execution_count": 2,
      "outputs": [
        {
          "output_type": "stream",
          "name": "stdout",
          "text": [
            "Program Hitung Tiket Kebun Binatang\n",
            "Masukkan umur (kosongkan untuk bayar):\n",
            "masukkan umur: 18\n",
            "Harga $ 23.00\n",
            "Running total: 23.00\n",
            "masukkan umur: 20\n",
            "Harga $ 23.00\n",
            "Running total: 46.00\n",
            "masukkan umur: \n",
            "\n",
            "Total Tagihan Anda: $46.00\n",
            "masukkan jumlah uang: 100\n",
            "Running kembalian: 54.00\n"
          ]
        }
      ]
    }
  ],
  "metadata": {
    "colab": {
      "provenance": [],
      "include_colab_link": true
    },
    "kernelspec": {
      "display_name": "Python 3",
      "name": "python3"
    }
  },
  "nbformat": 4,
  "nbformat_minor": 0
}