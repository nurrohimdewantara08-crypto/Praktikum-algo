{
  "nbformat": 4,
  "nbformat_minor": 0,
  "metadata": {
    "colab": {
      "provenance": [],
      "authorship_tag": "ABX9TyNzm9miGjGcgaJ0bzZ0+692",
      "include_colab_link": true
    },
    "kernelspec": {
      "name": "python3",
      "display_name": "Python 3"
    },
    "language_info": {
      "name": "python"
    }
  },
  "cells": [
    {
      "cell_type": "markdown",
      "metadata": {
        "id": "view-in-github",
        "colab_type": "text"
      },
      "source": [
        "<a href=\"https://colab.research.google.com/github/nurrohimdewantara08-crypto/Praktikum-algo/blob/main/praktikum2.ipynb\" target=\"_parent\"><img src=\"https://colab.research.google.com/assets/colab-badge.svg\" alt=\"Open In Colab\"/></a>"
      ]
    },
    {
      "cell_type": "code",
      "execution_count": null,
      "metadata": {
        "colab": {
          "base_uri": "https://localhost:8080/"
        },
        "id": "CY3e55NwjNdT",
        "outputId": "9badfe34-98b0-43f6-d4f3-0d85913a0d9d"
      },
      "outputs": [
        {
          "output_type": "stream",
          "name": "stdout",
          "text": [
            "Masukkan nilai a = 5\n",
            "Masukkan nilai b = 6\n",
            "\n",
            "jumlah a ditambah b adalah 11.0\n",
            "selisih a dikurangi b adalah 1.0\n",
            "perkalian a dikali b adalah 30.0\n",
            "sisa pembagian a dibagi b adalah 5.0\n",
            "pembagian a dibagi b adalah 0.8333333333333334\n",
            "hasil dari log a adalah 1.6094379124341003\n",
            "hasil dari log b adalah 1.791759469228055\n",
            "hasil a pangkat b adalah 15625.0\n"
          ]
        }
      ],
      "source": [
        "# NUR ROHIM DEWANTARA\n",
        "# 065002500012\n",
        "import math\n",
        "\n",
        "nilai_a = float(input(\"Masukkan nilai a = \"))\n",
        "nilai_b = float(input(\"Masukkan nilai b = \"))\n",
        "\n",
        "jumlah = nilai_a + nilai_b\n",
        "selisih = nilai_b - nilai_a\n",
        "perkalian = nilai_a * nilai_b\n",
        "sisa_pembagian = nilai_a % nilai_b\n",
        "pembagian = nilai_a / nilai_b\n",
        "\n",
        "#Ensure values are positive for log\n",
        "log_a = math.log(nilai_a) if nilai_a > 0 else\n",
        "log_b = math.log(nilai_b) if nilai_b > 0 else\n",
        "pangkat = nilai_a ** nilai_b\n",
        "\n",
        "print(\"\")\n",
        "print(f\"jumlah a ditambah b adalah {jumlah}\")\n",
        "print(f\"selisih a dikurangi b adalah {selisih}\")\n",
        "print(f\"perkalian a dikali b adalah {perkalian}\")\n",
        "print(f\"sisa pembagian a dibagi b adalah {sisa_pembagian}\")\n",
        "print(f\"pembagian a dibagi b adalah {pembagian}\")\n",
        "print(f\"hasil dari log a adalah {log_a}\")\n",
        "print(f\"hasil dari log b adalah {log_b}\")\n",
        "print(f\"hasil a pangkat b adalah {pangkat}\")\n"
      ]
    },
    {
      "cell_type": "code",
      "source": [
        "# Nur Rohim Dewantara\n",
        "# 065002500012\n",
        "\n",
        "import math\n",
        "\n",
        "#Menghitung Jarak Antara 2 Titik di Bumi\")\n",
        "\n",
        "#Jari-jari Bumi (R) dalam km\n",
        "\n",
        "R = 6371\n",
        "\n",
        "# Titik pertama\n",
        "\n",
        "nama_titik1 = input (\"Masukkan Nama titik pertama: \")\n",
        "\n",
        "lat1_deg = float(input(f\"Masukkan latitude ({nama_titik1}) (desimal): \"))\n",
        "\n",
        "lon1_deg = float (input (f\"Masukkan longitude ({nama_titik1}) (desimal): \"))\n",
        "\n",
        "# Titik kedua\n",
        "\n",
        "nama_titik2 = input (\"Masukkan Nama titik kedua: \")\n",
        "\n",
        "lat2_deg = float (input (f\"Masukkan latitude ({nama_titik2}) (desimal): \"))\n",
        "\n",
        "lon2_deg = float (input (f\"Masukkan longitude ({nama_titik2}) (desimal): \"))\n",
        "\n",
        "#Mengonversi fungsi trigonometri dari derajat radian\n",
        "\n",
        "lat1_rad = math.radians (lat1_deg)\n",
        "\n",
        "lon1_rad = math.radians (lon1_deg)\n",
        "\n",
        "lat2_rad = math.radians (lat2_deg)\n",
        "\n",
        "lon2_rad = math.radians (lon2_deg)\n",
        "\n",
        "#Selisih dari longitude dan latitude dalam radian\n",
        "\n",
        "dlon = lon2_rad - lon1_rad\n",
        "\n",
        "dlat = lat2_rad - lat1_rad\n",
        "\n",
        "#Bagian pertama dari rumus a menggunakan rumus haversine\n",
        "\n",
        "a = math.sin(dlat / 2)**2 + math.cos(lat1_rad) * math.cos (lat2_rad) * math.sin(dlon / 2)**2\n",
        "\n",
        "#Bagian kedua dari rumus a menggunakan rumus haversine\n",
        "\n",
        "c = 2 * math.atan2(math.sqrt(a), math.sqrt(1 - a))\n",
        "\n",
        "#Hitung jarak akhir\n",
        "\n",
        "jarak = R * c\n",
        "\n",
        "# Hasil\n",
        "\n",
        "print (f\"Jarak antara {nama_titik1} dan {nama_titik2} adalah {jarak} kilometer\")"
      ],
      "metadata": {
        "colab": {
          "base_uri": "https://localhost:8080/"
        },
        "id": "qbdwR2-JKBbz",
        "outputId": "b2d8f6e7-dbf2-484b-9862-eeb9475814dc"
      },
      "execution_count": null,
      "outputs": [
        {
          "output_type": "stream",
          "name": "stdout",
          "text": [
            "Masukkan Nama titik pertama: JAKARTA\n",
            "Masukkan latitude (JAKARTA) (desimal): 2161.21\n",
            "Masukkan longitude (JAKARTA) (desimal): 1323.23\n",
            "Masukkan Nama titik kedua: BANDUNG\n",
            "Masukkan latitude (BANDUNG) (desimal): 1252.1212\n",
            "Masukkan longitude (BANDUNG) (desimal): 1323.21\n",
            "Jarak antara JAKARTA dan BANDUNG adalah 19004.45591332595 kilometer\n"
          ]
        }
      ]
    }
  ]
}