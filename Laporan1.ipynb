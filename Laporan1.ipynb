{
  "nbformat": 4,
  "nbformat_minor": 0,
  "metadata": {
    "colab": {
      "provenance": [],
      "authorship_tag": "ABX9TyNvd9hxB6s+HeWmzy7/l/Zo",
      "include_colab_link": true
    },
    "kernelspec": {
      "name": "python3",
      "display_name": "Python 3"
    },
    "language_info": {
      "name": "python"
    }
  },
  "cells": [
    {
      "cell_type": "markdown",
      "metadata": {
        "id": "view-in-github",
        "colab_type": "text"
      },
      "source": [
        "<a href=\"https://colab.research.google.com/github/nurrohimdewantara08-crypto/Praktikum-algo/blob/main/Laporan1.ipynb\" target=\"_parent\"><img src=\"https://colab.research.google.com/assets/colab-badge.svg\" alt=\"Open In Colab\"/></a>"
      ]
    },
    {
      "cell_type": "code",
      "execution_count": null,
      "metadata": {
        "colab": {
          "base_uri": "https://localhost:8080/"
        },
        "id": "RADCTijAaX7o",
        "outputId": "34600347-a325-4f0c-8311-6427c5428c7c"
      },
      "outputs": [
        {
          "output_type": "stream",
          "name": "stdout",
          "text": [
            "Masukan nama lengkap: Nur Rohim Dewantara\n",
            "Masukan nama alamat: Jakarta Barat\n",
            "Masukan nama kampus: Universitas Trisakti\n",
            "Masukan jurusan kamu: Sistem Informasi\n",
            "dimana gedung jurusanmu: Gedung E\n",
            "halo nama saya Nur Rohim Dewantara, saya tinggal di Jakarta Barat, saya kuliah di Universitas Trisakti Sistem Informasi, di Gedung E\n"
          ]
        }
      ],
      "source": [
        "nama = input(\"Masukan nama lengkap: \")\n",
        "alamat = input(\"Masukan nama alamat: \")\n",
        "kampus = input(\"Masukan nama kampus: \")\n",
        "jurusan = input(\"Masukan jurusan kamu: \")\n",
        "lokasi_gedung_jurusan = input(\"dimana gedung jurusanmu: \")\n",
        "\n",
        "print(f\"halo nama saya {nama}, saya tinggal di {alamat}, saya kuliah di {kampus} {jurusan}, di {lokasi_gedung_jurusan}\")\n"
      ]
    },
    {
      "cell_type": "code",
      "source": [
        "# Nur Rohim Dewantara\n",
        "# 065002500012\n",
        "\n",
        "pr = int(input(\"masukan panjang ruangan: \"))\n",
        "lr = int(input(\"masukan lebar ruangan: \"))\n",
        "# Menghitung Luas Ruangan\n",
        "\n",
        "luas = pr * lr\n",
        "\n",
        "# Menghitung Hasil\n",
        "\n",
        "print(f\"luas ruangan dengan panjang {pr} dan lebar {lr} adalah {luas} meter\")\n"
      ],
      "metadata": {
        "colab": {
          "base_uri": "https://localhost:8080/"
        },
        "id": "_8p8x8SCH_5L",
        "outputId": "55a8b982-037f-4c9a-bf5d-fef03f0a8b5d"
      },
      "execution_count": null,
      "outputs": [
        {
          "output_type": "stream",
          "name": "stdout",
          "text": [
            "masukan panjang ruangan: 10\n",
            "masukan lebar ruangan: 15\n",
            "luas ruangan dengan panjang 10 dan lebar 15 adalah 150 meter\n"
          ]
        }
      ]
    },
    {
      "cell_type": "code",
      "source": [
        "# Nur Rohim Dewantara\n",
        "# 065002500012\n",
        "\n",
        "print(\"hitunglah Body Mass indeks(BMI)!\")\n",
        "\n",
        "Nama = input(\"Masukkan nama kamu : \")\n",
        "BB = int(input(\"masukkan berat badan kamu : \"))\n",
        "TB = int(input(\"masukkan tinggi badan kamu : \"))\n",
        "\n",
        "BMI = BB / TB\n",
        "\n",
        "print(f\" {Nama}, skor BMI kamu adalah {BMI}\")\n"
      ],
      "metadata": {
        "colab": {
          "base_uri": "https://localhost:8080/"
        },
        "id": "egjjlQw9Jkph",
        "outputId": "9eec7f36-3b56-4051-9b21-2295c9ad18b5"
      },
      "execution_count": null,
      "outputs": [
        {
          "output_type": "stream",
          "name": "stdout",
          "text": [
            "hitunglah Body Mass indeks(BMI)!\n",
            "Masukkan nama kamu : Nur Rohim Dewantara\n",
            "masukkan berat badan kamu : 68\n",
            "masukkan tinggi badan kamu : 172\n",
            " Nur Rohim Dewantara, skor BMI kamu adalah 0.3953488372093023\n"
          ]
        }
      ]
    }
  ]
}